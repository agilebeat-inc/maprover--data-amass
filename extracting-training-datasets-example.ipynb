{
 "cells": [
  {
   "cell_type": "code",
   "execution_count": 1,
   "metadata": {},
   "outputs": [],
   "source": [
    "import TileCollection as TC\n",
    "import TileGenerator as TG\n",
    "\n",
    "import math\n",
    "import random\n",
    "import string\n",
    "import subprocess\n",
    "import os"
   ]
  },
  {
   "cell_type": "code",
   "execution_count": 6,
   "metadata": {},
   "outputs": [],
   "source": [
    "#======================================================\n",
    "# The function creates geojson file given parameters,\n",
    "#   - place: geocode. (e.g. 'Beijing, China')\n",
    "#   - buffer_size: radius centered place in kilometer\n",
    "#   - tag: openstreet map feature tag\n",
    "#   - values: openstreet map feature values\n",
    "#   - file_name: file name saved as geojson\n",
    "#======================================================\n",
    "\n",
    "def featured_tiles(place, buffer_size, tag, values, file_name):\n",
    "    boundaries = TC.boundaries(place = place, buffer_size = buffer_size)\n",
    "    as_json = TC.map_features_json_response(bounds = boundaries, tag=tag, values=values)\n",
    "    TC.json_to_geojson(as_json, file_name)\n",
    "    return\n",
    "\n",
    "\n",
    "#=======================================================================================\n",
    "# The function creates shell scripts to collcec featured and non-featured tiles \n",
    "#  using geojson file.\n",
    "#   - geojson_file_path: file path where geojson file exists\n",
    "#   - zooms: zoom levels of tiles to be extracted \n",
    "#   - positive_file_name: shell script file name with path for positive dataset\n",
    "#   - negative_file_name: shell script file name with path for negative dataset\n",
    "#=======================================================================================\n",
    "def sh_creator(geojson_file_path, zooms, positive_file_name, negative_file_name): \n",
    "    head = \"#!/bin/bash\"\n",
    "    \n",
    "    #-- write in .sh script    \n",
    "    f = open(positive_file_name, 'w')\n",
    "    print(head, file = f)\n",
    "    \n",
    "    f_non = open(negative_file_name, 'w')\n",
    "    print(head, file = f_non)\n",
    "    \n",
    "    for zoom in zooms:   \n",
    "        geojson_file_path = geojson_file_path\n",
    "        gj = TG.load_json_file(geojson_file_path)\n",
    "        features = TG.extract_feature_list_from_gj(gj)\n",
    "        points_list = [f[\"geometry\"][\"coordinates\"] for f in features]\n",
    "\n",
    "        points = []\n",
    "        urls = []\n",
    "        for p in points_list:\n",
    "            x, y = TG.deg2num(p[1],p[0],zoom)\n",
    "            urls.append('https://' + random.choice('abc') + '.tile.openstreetmap.org/' + str(zoom) \n",
    "                        + '/' + str(x) + '/' + str(y) + '.png')\n",
    "\n",
    "        urls_set = set(urls)\n",
    "        \n",
    "        x_val = []\n",
    "        y_val = []\n",
    "        counter = 0\n",
    "        for u in urls_set:\n",
    "            split_url = u.split('/')\n",
    "            latlon = TG.num2deg(int(split_url[4]), int(split_url[5][:len(split_url[5])-4]), int(split_url[3]) )\n",
    "            line_1 = 'wget -O ' + str(split_url[3]) + '_' + str(split_url[4]) + '_' + str(split_url[5]) + ' ' + u \\\n",
    "                      + ' #Lat: ' + str(latlon[0]) + \", Lon: \" + str(latlon[1])\n",
    "            print(line_1, file = f)\n",
    "            if counter%50 == 0:\n",
    "                line_2 = 'sleep 1.1'\n",
    "                print(line_2, file = f)\n",
    "            counter = counter + 1 \n",
    "            \n",
    "            z_val = zoom           #-- split_url[3]\n",
    "            x_val.append(int(float(split_url[4])))\n",
    "            y_val.append(int(float(split_url[5][:-4])))\n",
    "            counter = counter + 1\n",
    "            \n",
    "        x_min, x_max, y_min, y_max = (min(x_val), max(x_val), min(y_val), max(y_val) )\n",
    "        cnt = 0\n",
    "        while cnt < counter:\n",
    "            x_non = random.choice(list(range(x_min, x_max)))\n",
    "            y_non = random.choice(list(range(y_min, y_max)))\n",
    "            if not((x_non in x_val) & (y_non in y_val)):\n",
    "                latlon = TG.num2deg(x_non, y_non, z_val)\n",
    "                url_set = 'https://' + random.choice('abc') + '.tile.openstreetmap.org/' + str(z_val) + '/' + str(x_non) + '/' + str(y_non) + '.png'\n",
    "                line_3 = 'wget -O ' + str(z_val) + '_' + str(x_non) + '_'+ str(y_non) + '.png' + ' ' + url_set + ' #Lat: ' + str(latlon[0]) + \", Lon: \" + str(latlon[1])\n",
    "                print(line_3, file = f_non)\n",
    "                cnt += 1\n",
    "            else:\n",
    "                pass\n",
    "            \n",
    "            if cnt%50 == 0:\n",
    "                line_4 = 'sleep 1.1'\n",
    "                print(line_4, file = f_non)   \n",
    "    return\n",
    "\n",
    "    \n",
    "#==========================================================================\n",
    "# This function gives permission to created shell scripts\n",
    "#  - sh_file_name: a string. List of .sh file names separated by space\n",
    "#==========================================================================   \n",
    "def shell_permission(sh_file_name):\n",
    "    #os.chdir(file_dir)\n",
    "    temp = subprocess.Popen([\"chmod\", \"755\", sh_file_name], stdout = subprocess.PIPE)\n",
    "    data = subprocess.Popen([\"ls\", '-l', sh_file_name], stdout = subprocess.PIPE) \n",
    "    # subprocess.check_call([sh_file_name, \"bash\"])                \n",
    "    return "
   ]
  },
  {
   "cell_type": "markdown",
   "metadata": {},
   "source": [
    "## 1. Get featured tiles as geojson\n",
    "###   Example\n",
    "* Extract tiles with 'aeroway' ('taxiway', 'runway','apron', 'helipad', 'heliport', 'terminal', 'aerodrome')\n",
    "* Create \"aeroways.geojson\" file"
   ]
  },
  {
   "cell_type": "code",
   "execution_count": 4,
   "metadata": {},
   "outputs": [],
   "source": [
    "featured_tiles(place=\"Beijing, China\", buffer_size=500000, tag='military', \n",
    "               values=['airfield', 'bunker','barracks', 'checkpoint', 'danger_area', 'naval_base', 'nuclear_explosion_site'], \n",
    "               file_name='military_near_Beijing')"
   ]
  },
  {
   "cell_type": "markdown",
   "metadata": {},
   "source": [
    "## 2. Using .geogson, create shell script for featured and non-featured classes"
   ]
  },
  {
   "cell_type": "code",
   "execution_count": 5,
   "metadata": {},
   "outputs": [],
   "source": [
    "sh_creator(geojson_file_path='military_near_Beijing.geojson', zooms=[17,18], \n",
    "           positive_file_name = 'mil_Beijing_pos.sh', negative_file_name ='mil_Beijing_neg.sh')"
   ]
  },
  {
   "cell_type": "markdown",
   "metadata": {},
   "source": [
    "## 3. Give permission to created shell scripts"
   ]
  },
  {
   "cell_type": "code",
   "execution_count": 8,
   "metadata": {},
   "outputs": [],
   "source": [
    "shell_permission('mil_Beijing_pos.sh non-mil_Beijing_neg.sh')"
   ]
  },
  {
   "cell_type": "code",
   "execution_count": null,
   "metadata": {},
   "outputs": [],
   "source": []
  },
  {
   "cell_type": "code",
   "execution_count": null,
   "metadata": {},
   "outputs": [],
   "source": []
  }
 ],
 "metadata": {
  "kernelspec": {
   "display_name": "Python 3",
   "language": "python",
   "name": "python3"
  },
  "language_info": {
   "codemirror_mode": {
    "name": "ipython",
    "version": 3
   },
   "file_extension": ".py",
   "mimetype": "text/x-python",
   "name": "python",
   "nbconvert_exporter": "python",
   "pygments_lexer": "ipython3",
   "version": "3.7.3"
  }
 },
 "nbformat": 4,
 "nbformat_minor": 2
}
